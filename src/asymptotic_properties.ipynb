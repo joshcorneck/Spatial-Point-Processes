{
 "cells": [
  {
   "cell_type": "code",
   "execution_count": 1,
   "metadata": {},
   "outputs": [],
   "source": [
    "import numpy as np\n",
    "import matplotlib.pyplot as plt\n",
    "\n",
    "from spatial_pp import SPP_Thomas\n",
    "from whittle_estimator import ThomasWhittleEstimator"
   ]
  },
  {
   "cell_type": "code",
   "execution_count": 2,
   "metadata": {},
   "outputs": [],
   "source": [
    "def standardise(spp, W_x, W_y):\n",
    "    \"\"\"\n",
    "    Function to standardise the coordinates of a given spp.\n",
    "    \"\"\"\n",
    "    spp[:,0] = spp[:,0]/W_x; spp[:,1] = spp[:,1]/W_y\n",
    "\n",
    "    return spp"
   ]
  },
  {
   "cell_type": "code",
   "execution_count": 3,
   "metadata": {},
   "outputs": [
    {
     "name": "stdout",
     "output_type": "stream",
     "text": [
      "Side length: 1.0\n",
      "Run 25 of 100\n",
      "Run 50 of 100\n",
      "Run 75 of 100\n",
      "Run 100 of 100\n",
      "Side length: 1.5\n",
      "Run 25 of 100\n",
      "Run 50 of 100\n",
      "Run 75 of 100\n",
      "Run 100 of 100\n",
      "Side length: 2.0\n",
      "Run 25 of 100\n",
      "Run 50 of 100\n",
      "Run 75 of 100\n",
      "Run 100 of 100\n",
      "Side length: 2.5\n",
      "Run 25 of 100\n",
      "Run 50 of 100\n",
      "Run 75 of 100\n",
      "Run 100 of 100\n",
      "Side length: 3.0\n",
      "Run 25 of 100\n",
      "Run 50 of 100\n",
      "Run 75 of 100\n",
      "Run 100 of 100\n",
      "Side length: 3.5\n"
     ]
    },
    {
     "ename": "KeyboardInterrupt",
     "evalue": "",
     "output_type": "error",
     "traceback": [
      "\u001b[0;31m---------------------------------------------------------------------------\u001b[0m",
      "\u001b[0;31mKeyboardInterrupt\u001b[0m                         Traceback (most recent call last)",
      "Cell \u001b[0;32mIn[3], line 41\u001b[0m\n\u001b[1;32m     39\u001b[0m \u001b[39m# Implement Whittle estimator\u001b[39;00m\n\u001b[1;32m     40\u001b[0m twe \u001b[39m=\u001b[39m ThomasWhittleEstimator(spp, \u001b[39m-\u001b[39m\u001b[39m16\u001b[39m, \u001b[39m16\u001b[39m, \u001b[39m1\u001b[39m)\n\u001b[0;32m---> 41\u001b[0m params[k, \u001b[39m0\u001b[39m:\u001b[39m3\u001b[39m] \u001b[39m=\u001b[39m (twe\u001b[39m.\u001b[39;49mscipyOptimisation([\u001b[39m15\u001b[39;49m, \u001b[39m5\u001b[39;49m, \u001b[39m0.05\u001b[39;49m]))\n",
      "File \u001b[0;32m~/Documents/Personal/Github/Spatial-Point-Processes/src/whittle_estimator.py:136\u001b[0m, in \u001b[0;36mThomasWhittleEstimator.scipyOptimisation\u001b[0;34m(self, init_params, method, options, **kwargs)\u001b[0m\n\u001b[1;32m    132\u001b[0m \u001b[39m\"\"\"\u001b[39;00m\n\u001b[1;32m    133\u001b[0m \u001b[39mRun the scipy.minimise algorithm with chosen method and options.\u001b[39;00m\n\u001b[1;32m    134\u001b[0m \u001b[39m\"\"\"\u001b[39;00m\n\u001b[1;32m    135\u001b[0m neg_ll \u001b[39m=\u001b[39m \u001b[39mlambda\u001b[39;00m x: \u001b[39m-\u001b[39m\u001b[39mself\u001b[39m\u001b[39m.\u001b[39mcomputeLikelihood(x[\u001b[39m0\u001b[39m], x[\u001b[39m1\u001b[39m], x[\u001b[39m2\u001b[39m]);\n\u001b[0;32m--> 136\u001b[0m solution \u001b[39m=\u001b[39m minimize(neg_ll, init_params, method\u001b[39m=\u001b[39;49mmethod,\n\u001b[1;32m    137\u001b[0m             options\u001b[39m=\u001b[39;49moptions, \u001b[39m*\u001b[39;49m\u001b[39m*\u001b[39;49mkwargs);\n\u001b[1;32m    139\u001b[0m \u001b[39mreturn\u001b[39;00m solution\u001b[39m.\u001b[39mx\n",
      "File \u001b[0;32m~/.local/lib/python3.10/site-packages/scipy/optimize/_minimize.py:687\u001b[0m, in \u001b[0;36mminimize\u001b[0;34m(fun, x0, args, method, jac, hess, hessp, bounds, constraints, tol, callback, options)\u001b[0m\n\u001b[1;32m    684\u001b[0m     bounds \u001b[39m=\u001b[39m standardize_bounds(bounds, x0, meth)\n\u001b[1;32m    686\u001b[0m \u001b[39mif\u001b[39;00m meth \u001b[39m==\u001b[39m \u001b[39m'\u001b[39m\u001b[39mnelder-mead\u001b[39m\u001b[39m'\u001b[39m:\n\u001b[0;32m--> 687\u001b[0m     res \u001b[39m=\u001b[39m _minimize_neldermead(fun, x0, args, callback, bounds\u001b[39m=\u001b[39;49mbounds,\n\u001b[1;32m    688\u001b[0m                                \u001b[39m*\u001b[39;49m\u001b[39m*\u001b[39;49moptions)\n\u001b[1;32m    689\u001b[0m \u001b[39melif\u001b[39;00m meth \u001b[39m==\u001b[39m \u001b[39m'\u001b[39m\u001b[39mpowell\u001b[39m\u001b[39m'\u001b[39m:\n\u001b[1;32m    690\u001b[0m     res \u001b[39m=\u001b[39m _minimize_powell(fun, x0, args, callback, bounds, \u001b[39m*\u001b[39m\u001b[39m*\u001b[39moptions)\n",
      "File \u001b[0;32m~/.local/lib/python3.10/site-packages/scipy/optimize/_optimize.py:804\u001b[0m, in \u001b[0;36m_minimize_neldermead\u001b[0;34m(func, x0, args, callback, maxiter, maxfev, disp, return_all, initial_simplex, xatol, fatol, adaptive, bounds, **unknown_options)\u001b[0m\n\u001b[1;32m    802\u001b[0m \u001b[39mif\u001b[39;00m bounds \u001b[39mis\u001b[39;00m \u001b[39mnot\u001b[39;00m \u001b[39mNone\u001b[39;00m:\n\u001b[1;32m    803\u001b[0m     xe \u001b[39m=\u001b[39m np\u001b[39m.\u001b[39mclip(xe, lower_bound, upper_bound)\n\u001b[0;32m--> 804\u001b[0m fxe \u001b[39m=\u001b[39m func(xe)\n\u001b[1;32m    806\u001b[0m \u001b[39mif\u001b[39;00m fxe \u001b[39m<\u001b[39m fxr:\n\u001b[1;32m    807\u001b[0m     sim[\u001b[39m-\u001b[39m\u001b[39m1\u001b[39m] \u001b[39m=\u001b[39m xe\n",
      "File \u001b[0;32m~/.local/lib/python3.10/site-packages/scipy/optimize/_optimize.py:496\u001b[0m, in \u001b[0;36m_wrap_scalar_function_maxfun_validation.<locals>.function_wrapper\u001b[0;34m(x, *wrapper_args)\u001b[0m\n\u001b[1;32m    494\u001b[0m ncalls[\u001b[39m0\u001b[39m] \u001b[39m+\u001b[39m\u001b[39m=\u001b[39m \u001b[39m1\u001b[39m\n\u001b[1;32m    495\u001b[0m \u001b[39m# A copy of x is sent to the user function (gh13740)\u001b[39;00m\n\u001b[0;32m--> 496\u001b[0m fx \u001b[39m=\u001b[39m function(np\u001b[39m.\u001b[39;49mcopy(x), \u001b[39m*\u001b[39;49m(wrapper_args \u001b[39m+\u001b[39;49m args))\n\u001b[1;32m    497\u001b[0m \u001b[39m# Ideally, we'd like to a have a true scalar returned from f(x). For\u001b[39;00m\n\u001b[1;32m    498\u001b[0m \u001b[39m# backwards-compatibility, also allow np.array([1.3]),\u001b[39;00m\n\u001b[1;32m    499\u001b[0m \u001b[39m# np.array([[1.3]]) etc.\u001b[39;00m\n\u001b[1;32m    500\u001b[0m \u001b[39mif\u001b[39;00m \u001b[39mnot\u001b[39;00m np\u001b[39m.\u001b[39misscalar(fx):\n",
      "File \u001b[0;32m~/Documents/Personal/Github/Spatial-Point-Processes/src/whittle_estimator.py:135\u001b[0m, in \u001b[0;36mThomasWhittleEstimator.scipyOptimisation.<locals>.<lambda>\u001b[0;34m(x)\u001b[0m\n\u001b[1;32m    129\u001b[0m \u001b[39mdef\u001b[39;00m \u001b[39mscipyOptimisation\u001b[39m(\n\u001b[1;32m    130\u001b[0m     \u001b[39mself\u001b[39m, init_params, method\u001b[39m=\u001b[39m\u001b[39m'\u001b[39m\u001b[39mnelder-mead\u001b[39m\u001b[39m'\u001b[39m, options\u001b[39m=\u001b[39m{\u001b[39m'\u001b[39m\u001b[39mxatol\u001b[39m\u001b[39m'\u001b[39m: \u001b[39m1e-4\u001b[39m, \u001b[39m'\u001b[39m\u001b[39mdisp\u001b[39m\u001b[39m'\u001b[39m: \u001b[39mFalse\u001b[39;00m},\n\u001b[1;32m    131\u001b[0m     \u001b[39m*\u001b[39m\u001b[39m*\u001b[39mkwargs):\n\u001b[1;32m    132\u001b[0m     \u001b[39m\"\"\"\u001b[39;00m\n\u001b[1;32m    133\u001b[0m \u001b[39m    Run the scipy.minimise algorithm with chosen method and options.\u001b[39;00m\n\u001b[1;32m    134\u001b[0m \u001b[39m    \"\"\"\u001b[39;00m\n\u001b[0;32m--> 135\u001b[0m     neg_ll \u001b[39m=\u001b[39m \u001b[39mlambda\u001b[39;00m x: \u001b[39m-\u001b[39m\u001b[39mself\u001b[39;49m\u001b[39m.\u001b[39;49mcomputeLikelihood(x[\u001b[39m0\u001b[39;49m], x[\u001b[39m1\u001b[39;49m], x[\u001b[39m2\u001b[39;49m]);\n\u001b[1;32m    136\u001b[0m     solution \u001b[39m=\u001b[39m minimize(neg_ll, init_params, method\u001b[39m=\u001b[39mmethod,\n\u001b[1;32m    137\u001b[0m                 options\u001b[39m=\u001b[39moptions, \u001b[39m*\u001b[39m\u001b[39m*\u001b[39mkwargs);\n\u001b[1;32m    139\u001b[0m     \u001b[39mreturn\u001b[39;00m solution\u001b[39m.\u001b[39mx\n",
      "File \u001b[0;32m~/Documents/Personal/Github/Spatial-Point-Processes/src/whittle_estimator.py:64\u001b[0m, in \u001b[0;36mThomasWhittleEstimator.computeLikelihood\u001b[0;34m(self, rho, K, sigma)\u001b[0m\n\u001b[1;32m     61\u001b[0m         i \u001b[39m+\u001b[39m\u001b[39m=\u001b[39m \u001b[39m1\u001b[39m\n\u001b[1;32m     62\u001b[0m         spectral_density \u001b[39m=\u001b[39m \u001b[39mself\u001b[39m\u001b[39m.\u001b[39mcomputeThomasSpectralDensity(\n\u001b[1;32m     63\u001b[0m             rho\u001b[39m=\u001b[39mrho, K\u001b[39m=\u001b[39mK, sigma\u001b[39m=\u001b[39msigma, p\u001b[39m=\u001b[39mp, q\u001b[39m=\u001b[39mq)\n\u001b[0;32m---> 64\u001b[0m         periodogram \u001b[39m=\u001b[39m \u001b[39mself\u001b[39;49m\u001b[39m.\u001b[39;49mcomputePeriodogram(p\u001b[39m=\u001b[39;49mp, q\u001b[39m=\u001b[39;49mq)\n\u001b[1;32m     65\u001b[0m         likelihood[i] \u001b[39m=\u001b[39m np\u001b[39m.\u001b[39mlog(spectral_density) \u001b[39m+\u001b[39m periodogram \u001b[39m/\u001b[39m spectral_density\n\u001b[1;32m     67\u001b[0m \u001b[39mreturn\u001b[39;00m (\u001b[39m-\u001b[39mnp\u001b[39m.\u001b[39msum(likelihood))\n",
      "File \u001b[0;32m~/Documents/Personal/Github/Spatial-Point-Processes/src/whittle_estimator.py:47\u001b[0m, in \u001b[0;36mThomasWhittleEstimator.computePeriodogram\u001b[0;34m(self, p, q)\u001b[0m\n\u001b[1;32m     44\u001b[0m cos_sin \u001b[39m=\u001b[39m np\u001b[39m.\u001b[39mzeros((\u001b[39mself\u001b[39m\u001b[39m.\u001b[39mN,\u001b[39m2\u001b[39m))\n\u001b[1;32m     45\u001b[0m cos_sin[:,\u001b[39m0\u001b[39m] \u001b[39m=\u001b[39m np\u001b[39m.\u001b[39mcos(spp_freq_sum); cos_sin[:,\u001b[39m1\u001b[39m] \u001b[39m=\u001b[39m np\u001b[39m.\u001b[39msin(spp_freq_sum)\n\u001b[0;32m---> 47\u001b[0m periodogram \u001b[39m=\u001b[39m np\u001b[39m.\u001b[39msum(np\u001b[39m.\u001b[39;49msum(cos_sin, axis\u001b[39m=\u001b[39;49m\u001b[39m0\u001b[39;49m) \u001b[39m*\u001b[39m\u001b[39m*\u001b[39m \u001b[39m2\u001b[39m)\n\u001b[1;32m     49\u001b[0m \u001b[39mreturn\u001b[39;00m periodogram\n",
      "File \u001b[0;32m<__array_function__ internals>:180\u001b[0m, in \u001b[0;36msum\u001b[0;34m(*args, **kwargs)\u001b[0m\n",
      "File \u001b[0;32m~/.local/lib/python3.10/site-packages/numpy/core/fromnumeric.py:2298\u001b[0m, in \u001b[0;36msum\u001b[0;34m(a, axis, dtype, out, keepdims, initial, where)\u001b[0m\n\u001b[1;32m   2295\u001b[0m         \u001b[39mreturn\u001b[39;00m out\n\u001b[1;32m   2296\u001b[0m     \u001b[39mreturn\u001b[39;00m res\n\u001b[0;32m-> 2298\u001b[0m \u001b[39mreturn\u001b[39;00m _wrapreduction(a, np\u001b[39m.\u001b[39;49madd, \u001b[39m'\u001b[39;49m\u001b[39msum\u001b[39;49m\u001b[39m'\u001b[39;49m, axis, dtype, out, keepdims\u001b[39m=\u001b[39;49mkeepdims,\n\u001b[1;32m   2299\u001b[0m                       initial\u001b[39m=\u001b[39;49minitial, where\u001b[39m=\u001b[39;49mwhere)\n",
      "File \u001b[0;32m~/.local/lib/python3.10/site-packages/numpy/core/fromnumeric.py:86\u001b[0m, in \u001b[0;36m_wrapreduction\u001b[0;34m(obj, ufunc, method, axis, dtype, out, **kwargs)\u001b[0m\n\u001b[1;32m     83\u001b[0m         \u001b[39melse\u001b[39;00m:\n\u001b[1;32m     84\u001b[0m             \u001b[39mreturn\u001b[39;00m reduction(axis\u001b[39m=\u001b[39maxis, out\u001b[39m=\u001b[39mout, \u001b[39m*\u001b[39m\u001b[39m*\u001b[39mpasskwargs)\n\u001b[0;32m---> 86\u001b[0m \u001b[39mreturn\u001b[39;00m ufunc\u001b[39m.\u001b[39;49mreduce(obj, axis, dtype, out, \u001b[39m*\u001b[39;49m\u001b[39m*\u001b[39;49mpasskwargs)\n",
      "\u001b[0;31mKeyboardInterrupt\u001b[0m: "
     ]
    }
   ],
   "source": [
    "# Parameter values for point process\n",
    "rho = 25\n",
    "K = 10\n",
    "sigma = 0.03\n",
    "cov = np.array([[1, 0], [0, 1]])\n",
    "\n",
    "# Number of repetitions per side length\n",
    "N_w = int(1e2) \n",
    "\n",
    "# Iterate over a set of side lengths\n",
    "side_lengths = np.arange(1, 5 + 1, 0.5)\n",
    "\n",
    "# Parameter array: 0,1,2 for rho, K, sigma; 3 for number of points\n",
    "# in the pattern and 4 for the edge length of the square.\n",
    "params = np.zeros((N_w * len(side_lengths), 5))\n",
    "\n",
    "for l in side_lengths:\n",
    "\n",
    "    # Print value of l for tracking\n",
    "    print(f\"Side length: {l}\")\n",
    "\n",
    "    # Instatiate class for Thomas process on the given window\n",
    "    tom = SPP_Thomas(maxX=l, maxY=l)  \n",
    "\n",
    "    for k in range(N_w):\n",
    "\n",
    "        # Print iteration\n",
    "        if (((k+1) / 25) == ((k+1) // 25)):\n",
    "            print(f\"Run {k + 1} of {N_w}\")\n",
    "\n",
    "        # Simulate a point pattern and standardise the coorindates.\n",
    "        spp = tom.simSPP(rho, K, sigma, cov, enlarge=1.1)\n",
    "        spp = standardise(spp, l, l)\n",
    "        \n",
    "        # Store side length and number of points\n",
    "        params[k, 3] = len(spp)\n",
    "        params[k, 4] = l\n",
    "\n",
    "        # Implement Whittle estimator\n",
    "        twe = ThomasWhittleEstimator(spp, -16, 16, 1)\n",
    "        params[k, 0:3] = (twe.scipyOptimisation([15, 5, 0.05]))"
   ]
  },
  {
   "cell_type": "code",
   "execution_count": 4,
   "metadata": {},
   "outputs": [],
   "source": [
    "import pandas as pd\n",
    "\n",
    "df_side_length = pd.DataFrame({\n",
    "    'rho': (params[:,0] - rho)/rho,\n",
    "    'K': (params[:,1] - K)/K,\n",
    "    'sigma': (params[:,2] - sigma)/sigma,\n",
    "    'N_samp': params[:,3],\n",
    "    'side_length': params[:,4]\n",
    "})\n",
    "\n",
    "side_length_se = df_side_length.groupby('side_length').mean()\n"
   ]
  }
 ],
 "metadata": {
  "kernelspec": {
   "display_name": "Python 3",
   "language": "python",
   "name": "python3"
  },
  "language_info": {
   "codemirror_mode": {
    "name": "ipython",
    "version": 3
   },
   "file_extension": ".py",
   "mimetype": "text/x-python",
   "name": "python",
   "nbconvert_exporter": "python",
   "pygments_lexer": "ipython3",
   "version": "3.10.6"
  },
  "orig_nbformat": 4,
  "vscode": {
   "interpreter": {
    "hash": "916dbcbb3f70747c44a77c7bcd40155683ae19c65e1c03b4aa3499c5328201f1"
   }
  }
 },
 "nbformat": 4,
 "nbformat_minor": 2
}
